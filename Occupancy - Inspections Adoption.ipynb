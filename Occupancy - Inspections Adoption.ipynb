{
 "cells": [
  {
   "cell_type": "code",
   "execution_count": 68,
   "metadata": {},
   "outputs": [],
   "source": [
    "import pandas as pd\n",
    "import ast\n",
    "import numpy as np\n",
    "from scipy.stats import ttest_ind"
   ]
  },
  {
   "cell_type": "code",
   "execution_count": 61,
   "metadata": {},
   "outputs": [],
   "source": [
    "# unit_occupancy_file = '/Users/bradley.webb/Desktop/mid_market_measurement/data/inspections/unit_occupancies.csv'\n",
    "# unit_inspection_file = '/Users/bradley.webb/Desktop/mid_market_measurement/data/inspections/unit_inspections.csv'\n",
    "occupancy_inspection_file = '/Users/bradley.webb/Desktop/mid_market_measurement/data/inspections/occupancy_inspections_2021_03_12.csv'\n",
    "high_adoption_inspection_file = '/Users/bradley.webb/Desktop/mid_market_measurement/data/inspections/High_Adoption_Inspections_Users_-_Inspections_Engagement_2021_04_08.csv'\n",
    "low_adoption_inspection_file = '/Users/bradley.webb/Desktop/mid_market_measurement/data/inspections/Low_Adoption_Inspections_Users_-_Inspections_Engagement_2021_04_08.csv'"
   ]
  },
  {
   "cell_type": "code",
   "execution_count": 31,
   "metadata": {},
   "outputs": [],
   "source": [
    "# unit_df = pd.read_csv(unit_occupancy_file)\n",
    "df = pd.read_csv(occupancy_inspection_file)"
   ]
  },
  {
   "cell_type": "code",
   "execution_count": 62,
   "outputs": [],
   "source": [
    "df_high = pd.read_csv(high_adoption_inspection_file)\n",
    "df_low = pd.read_csv(low_adoption_inspection_file)"
   ],
   "metadata": {
    "collapsed": false,
    "pycharm": {
     "name": "#%%\n"
    }
   }
  },
  {
   "cell_type": "code",
   "execution_count": 32,
   "metadata": {},
   "outputs": [],
   "source": [
    "def convert(row):\n",
    "    return ast.literal_eval(row)\n",
    "\n",
    "def gen_UUID(row):\n",
    "    return '{VHOST}-{PROP_ID}-{UNIT_ID}'.format(VHOST=row['VHOST'].strip(), PROP_ID=row['PROPERTY_ID'], UNIT_ID=row['UNIT_ID'])"
   ]
  },
  {
   "cell_type": "code",
   "execution_count": 33,
   "metadata": {},
   "outputs": [],
   "source": [
    "df['INSPECTIONS_CONVERTED'] = df['INSPECTIONS'].apply(convert)\n",
    "df['UUID'] = df.apply(gen_UUID, axis=1)\n",
    "\n",
    "# unit_df['UUID'] = unit_df.apply(gen_UUID, axis=1)\n",
    "# occupancy_inspection_df['UUID'] = occupancy_inspection_df.apply(gen_UUID, axis=1)"
   ]
  },
  {
   "cell_type": "code",
   "execution_count": 59,
   "outputs": [
    {
     "data": {
      "text/plain": "                  ID        CNT_IMG      CNT_AREAS      CNT_ITEMS  \\\ncount  148683.000000  148683.000000  148683.000000  148683.000000   \nmean     4441.970232      47.017097       8.552699      40.067903   \nstd      2786.347143      86.557888       5.801906      41.968787   \nmin         1.000000       0.000000       0.000000       0.000000   \n25%      2441.000000       1.000000       5.000000      15.000000   \n50%      3902.000000      18.000000       8.000000      26.000000   \n75%      5874.000000      56.000000      11.000000      43.000000   \nmax     14834.000000    2077.000000      39.000000     365.000000   \n\n       CNT_NON_ZERO_LENGTH_NOTES  CNT_CHECKED_ITEMS  CNT_FLAGGED_ITEMS  \ncount              148683.000000      148683.000000      148683.000000  \nmean                    5.590787          24.025820           2.492195  \nstd                    10.186880          34.798363           6.168400  \nmin                     0.000000           0.000000           0.000000  \n25%                     0.000000           0.000000           0.000000  \n50%                     2.000000          11.000000           0.000000  \n75%                     6.000000          28.000000           2.000000  \nmax                   148.000000         320.000000         118.000000  ",
      "text/html": "<div>\n<style scoped>\n    .dataframe tbody tr th:only-of-type {\n        vertical-align: middle;\n    }\n\n    .dataframe tbody tr th {\n        vertical-align: top;\n    }\n\n    .dataframe thead th {\n        text-align: right;\n    }\n</style>\n<table border=\"1\" class=\"dataframe\">\n  <thead>\n    <tr style=\"text-align: right;\">\n      <th></th>\n      <th>ID</th>\n      <th>CNT_IMG</th>\n      <th>CNT_AREAS</th>\n      <th>CNT_ITEMS</th>\n      <th>CNT_NON_ZERO_LENGTH_NOTES</th>\n      <th>CNT_CHECKED_ITEMS</th>\n      <th>CNT_FLAGGED_ITEMS</th>\n    </tr>\n  </thead>\n  <tbody>\n    <tr>\n      <th>count</th>\n      <td>148683.000000</td>\n      <td>148683.000000</td>\n      <td>148683.000000</td>\n      <td>148683.000000</td>\n      <td>148683.000000</td>\n      <td>148683.000000</td>\n      <td>148683.000000</td>\n    </tr>\n    <tr>\n      <th>mean</th>\n      <td>4441.970232</td>\n      <td>47.017097</td>\n      <td>8.552699</td>\n      <td>40.067903</td>\n      <td>5.590787</td>\n      <td>24.025820</td>\n      <td>2.492195</td>\n    </tr>\n    <tr>\n      <th>std</th>\n      <td>2786.347143</td>\n      <td>86.557888</td>\n      <td>5.801906</td>\n      <td>41.968787</td>\n      <td>10.186880</td>\n      <td>34.798363</td>\n      <td>6.168400</td>\n    </tr>\n    <tr>\n      <th>min</th>\n      <td>1.000000</td>\n      <td>0.000000</td>\n      <td>0.000000</td>\n      <td>0.000000</td>\n      <td>0.000000</td>\n      <td>0.000000</td>\n      <td>0.000000</td>\n    </tr>\n    <tr>\n      <th>25%</th>\n      <td>2441.000000</td>\n      <td>1.000000</td>\n      <td>5.000000</td>\n      <td>15.000000</td>\n      <td>0.000000</td>\n      <td>0.000000</td>\n      <td>0.000000</td>\n    </tr>\n    <tr>\n      <th>50%</th>\n      <td>3902.000000</td>\n      <td>18.000000</td>\n      <td>8.000000</td>\n      <td>26.000000</td>\n      <td>2.000000</td>\n      <td>11.000000</td>\n      <td>0.000000</td>\n    </tr>\n    <tr>\n      <th>75%</th>\n      <td>5874.000000</td>\n      <td>56.000000</td>\n      <td>11.000000</td>\n      <td>43.000000</td>\n      <td>6.000000</td>\n      <td>28.000000</td>\n      <td>2.000000</td>\n    </tr>\n    <tr>\n      <th>max</th>\n      <td>14834.000000</td>\n      <td>2077.000000</td>\n      <td>39.000000</td>\n      <td>365.000000</td>\n      <td>148.000000</td>\n      <td>320.000000</td>\n      <td>118.000000</td>\n    </tr>\n  </tbody>\n</table>\n</div>"
     },
     "execution_count": 59,
     "metadata": {},
     "output_type": "execute_result"
    }
   ],
   "source": [
    "df_high.describe()"
   ],
   "metadata": {
    "collapsed": false,
    "pycharm": {
     "name": "#%%\n"
    }
   }
  },
  {
   "cell_type": "code",
   "execution_count": 63,
   "outputs": [
    {
     "data": {
      "text/plain": "                  ID        CNT_IMG      CNT_AREAS      CNT_ITEMS  \\\ncount  148383.000000  148383.000000  148383.000000  148383.000000   \nmean      937.834577      31.795260       6.624910      32.143608   \nstd      1392.339867      59.483377       4.186212      35.102172   \nmin         1.000000       0.000000       0.000000       0.000000   \n25%       168.000000       0.000000       4.000000      16.000000   \n50%       456.000000      11.000000       6.000000      21.000000   \n75%      1101.000000      37.000000       8.000000      33.000000   \nmax      9297.000000    3912.000000      60.000000     457.000000   \n\n       CNT_NON_ZERO_LENGTH_NOTES  CNT_CHECKED_ITEMS  CNT_FLAGGED_ITEMS  \ncount              148383.000000      148383.000000      148383.000000  \nmean                    7.007898          12.432273           4.037450  \nstd                    12.235643          21.971707           8.295509  \nmin                     0.000000           0.000000           0.000000  \n25%                     0.000000           0.000000           0.000000  \n50%                     2.000000           2.000000           0.000000  \n75%                     9.000000          16.000000           4.000000  \nmax                   240.000000         259.000000         185.000000  ",
      "text/html": "<div>\n<style scoped>\n    .dataframe tbody tr th:only-of-type {\n        vertical-align: middle;\n    }\n\n    .dataframe tbody tr th {\n        vertical-align: top;\n    }\n\n    .dataframe thead th {\n        text-align: right;\n    }\n</style>\n<table border=\"1\" class=\"dataframe\">\n  <thead>\n    <tr style=\"text-align: right;\">\n      <th></th>\n      <th>ID</th>\n      <th>CNT_IMG</th>\n      <th>CNT_AREAS</th>\n      <th>CNT_ITEMS</th>\n      <th>CNT_NON_ZERO_LENGTH_NOTES</th>\n      <th>CNT_CHECKED_ITEMS</th>\n      <th>CNT_FLAGGED_ITEMS</th>\n    </tr>\n  </thead>\n  <tbody>\n    <tr>\n      <th>count</th>\n      <td>148383.000000</td>\n      <td>148383.000000</td>\n      <td>148383.000000</td>\n      <td>148383.000000</td>\n      <td>148383.000000</td>\n      <td>148383.000000</td>\n      <td>148383.000000</td>\n    </tr>\n    <tr>\n      <th>mean</th>\n      <td>937.834577</td>\n      <td>31.795260</td>\n      <td>6.624910</td>\n      <td>32.143608</td>\n      <td>7.007898</td>\n      <td>12.432273</td>\n      <td>4.037450</td>\n    </tr>\n    <tr>\n      <th>std</th>\n      <td>1392.339867</td>\n      <td>59.483377</td>\n      <td>4.186212</td>\n      <td>35.102172</td>\n      <td>12.235643</td>\n      <td>21.971707</td>\n      <td>8.295509</td>\n    </tr>\n    <tr>\n      <th>min</th>\n      <td>1.000000</td>\n      <td>0.000000</td>\n      <td>0.000000</td>\n      <td>0.000000</td>\n      <td>0.000000</td>\n      <td>0.000000</td>\n      <td>0.000000</td>\n    </tr>\n    <tr>\n      <th>25%</th>\n      <td>168.000000</td>\n      <td>0.000000</td>\n      <td>4.000000</td>\n      <td>16.000000</td>\n      <td>0.000000</td>\n      <td>0.000000</td>\n      <td>0.000000</td>\n    </tr>\n    <tr>\n      <th>50%</th>\n      <td>456.000000</td>\n      <td>11.000000</td>\n      <td>6.000000</td>\n      <td>21.000000</td>\n      <td>2.000000</td>\n      <td>2.000000</td>\n      <td>0.000000</td>\n    </tr>\n    <tr>\n      <th>75%</th>\n      <td>1101.000000</td>\n      <td>37.000000</td>\n      <td>8.000000</td>\n      <td>33.000000</td>\n      <td>9.000000</td>\n      <td>16.000000</td>\n      <td>4.000000</td>\n    </tr>\n    <tr>\n      <th>max</th>\n      <td>9297.000000</td>\n      <td>3912.000000</td>\n      <td>60.000000</td>\n      <td>457.000000</td>\n      <td>240.000000</td>\n      <td>259.000000</td>\n      <td>185.000000</td>\n    </tr>\n  </tbody>\n</table>\n</div>"
     },
     "execution_count": 63,
     "metadata": {},
     "output_type": "execute_result"
    }
   ],
   "source": [
    "df_low.describe()"
   ],
   "metadata": {
    "collapsed": false,
    "pycharm": {
     "name": "#%%\n"
    }
   }
  },
  {
   "cell_type": "code",
   "execution_count": 76,
   "outputs": [
    {
     "data": {
      "text/plain": "{'CNT_IMG': Ttest_indResult(statistic=-55.847192539770575, pvalue=0.0),\n 'CNT_AREAS': Ttest_indResult(statistic=-103.83030300501646, pvalue=0.0),\n 'CNT_ITEMS': Ttest_indResult(statistic=-55.81365531883691, pvalue=0.0),\n 'CNT_NON_ZERO_LENGTH_NOTES': Ttest_indResult(statistic=34.30679515666044, pvalue=1.9916418421459927e-257),\n 'CNT_CHECKED_ITEMS': Ttest_indResult(statistic=-108.54688878951127, pvalue=0.0),\n 'CNT_FLAGGED_ITEMS': Ttest_indResult(statistic=57.61793924120315, pvalue=0.0)}"
     },
     "execution_count": 76,
     "metadata": {},
     "output_type": "execute_result"
    }
   ],
   "source": [
    "ttest_results = dict()\n",
    "for col in df_low.columns[2:]:\n",
    "    cat1 = df_low[col]\n",
    "    cat2 = df_high[col]\n",
    "\n",
    "    ttest_results[col] = ttest_ind(cat1, cat2)\n",
    "# cat1 = df_low['CNT_IMG']\n",
    "# cat2 = df_high['CNT_IMG']\n",
    "#\n",
    "# ttest_ind(cat1, cat2)\n",
    "ttest_results"
   ],
   "metadata": {
    "collapsed": false,
    "pycharm": {
     "name": "#%%\n"
    }
   }
  },
  {
   "cell_type": "code",
   "execution_count": 6,
   "metadata": {},
   "outputs": [
    {
     "data": {
      "text/plain": "0.042523162046313644"
     },
     "execution_count": 6,
     "metadata": {},
     "output_type": "execute_result"
    }
   ],
   "source": [
    "# pd.options.display.float_format = \"{:,.2f}\".format\n",
    "df[df['CNT_INSPECTIONS'] >= 1].shape[0] / df.shape[0] # percent total occupancies at least 1 inspection\n",
    "df[df['CNT_INSPECTIONS'] > 1].shape[0] / df.shape[0] # percent total occupancies greater than 1 inspection\n"
   ]
  },
  {
   "cell_type": "code",
   "execution_count": 7,
   "metadata": {},
   "outputs": [
    {
     "data": {
      "text/plain": "UUID\na2zrealty-100-100       False\na2zrealty-101-101       False\na2zrealty-102-102        True\na2zrealty-103-103       False\na2zrealty-104-104       False\n                        ...  \nzukinrealty-815-2488    False\nzukinrealty-815-2489    False\nzukinrealty-818-2494    False\nzukinrealty-819-2496    False\nzukinrealty-820-2495    False\nName: OCCUPANCY_ID, Length: 1635940, dtype: bool"
     },
     "execution_count": 7,
     "metadata": {},
     "output_type": "execute_result"
    }
   ],
   "source": [
    "# occupancy_active_user\n",
    "\"\"\"\n",
    "Given a unit, did an inspection happen during a given occupancy?\n",
    "If that occupancy has an end date, did an inspection happen during the subsequent occupancy?\n",
    "\"\"\"\n",
    "\n",
    "# df[df.groupby('UUID').agg({'CNT_INSPECTION':'sum'}) > 1]\n",
    "df.groupby('UUID').count()['OCCUPANCY_ID'] > 1"
   ]
  },
  {
   "cell_type": "code",
   "execution_count": 12,
   "metadata": {},
   "outputs": [],
   "source": [
    "df2 = df.groupby(['VHOST', 'PROPERTY_ID']).agg({'OCCUPANCY_ID':'count', 'CNT_INSPECTIONS': 'sum'}).reset_index().rename(columns={'OCCUPANCY_ID':'CNT_OCCUPANCY', 'CNT_INSPECTIONS':'SUM_INSPECTIONS'})\n",
    "df3 = df.groupby(['VHOST', 'UNIT_ID']).agg({'OCCUPANCY_ID':'count', 'CNT_INSPECTIONS': 'sum'}).reset_index().rename(columns={'OCCUPANCY_ID':'CNT_OCCUPANCY', 'CNT_INSPECTIONS':'SUM_INSPECTIONS'})\n",
    "df4 = df.groupby(['VHOST']).agg({'OCCUPANCY_ID':'count', 'CNT_INSPECTIONS': 'sum'}).reset_index().rename(columns={'OCCUPANCY_ID':'CNT_OCCUPANCY', 'CNT_INSPECTIONS':'SUM_INSPECTIONS'})"
   ]
  },
  {
   "cell_type": "code",
   "execution_count": 9,
   "metadata": {},
   "outputs": [
    {
     "data": {
      "text/plain": "0.26517830458485037"
     },
     "execution_count": 9,
     "metadata": {},
     "output_type": "execute_result"
    }
   ],
   "source": [
    "df2[df2['SUM_INSPECTIONS'] >= 1].shape[0] / df2.shape[0] # properties with at least 1 inspection"
   ]
  },
  {
   "cell_type": "code",
   "execution_count": 11,
   "metadata": {},
   "outputs": [
    {
     "data": {
      "text/plain": "0.13475066322725773"
     },
     "execution_count": 11,
     "metadata": {},
     "output_type": "execute_result"
    }
   ],
   "source": [
    "df3[df3['SUM_INSPECTIONS'] >= 1].shape[0] / df3.shape[0] # units with at least 1 inspection"
   ]
  },
  {
   "cell_type": "code",
   "execution_count": 13,
   "metadata": {},
   "outputs": [
    {
     "data": {
      "text/plain": "0.650089605734767"
     },
     "execution_count": 13,
     "metadata": {},
     "output_type": "execute_result"
    }
   ],
   "source": [
    "df4[df4['SUM_INSPECTIONS'] >= 1].shape[0] / df4.shape[0] # vhosts with at least 1 inspection"
   ]
  },
  {
   "cell_type": "code",
   "execution_count": 43,
   "outputs": [],
   "source": [
    "df3.columns\n",
    "s = df3[df3['SUM_INSPECTIONS'] / df3['CNT_OCCUPANCY'] >= 1].groupby(['VHOST']).count()['UNIT_ID'] / df3.groupby(['VHOST']).count()['UNIT_ID'] <= .1"
   ],
   "metadata": {
    "collapsed": false,
    "pycharm": {
     "name": "#%%\n"
    }
   }
  },
  {
   "cell_type": "code",
   "execution_count": 57,
   "outputs": [],
   "source": [
    "np.savetxt('/Users/bradley.webb/Downloads/Low_Adoption_Inspection_Users.csv', np.array(s[s].index),  delimiter=',', fmt='%s')"
   ],
   "metadata": {
    "collapsed": false,
    "pycharm": {
     "name": "#%%\n"
    }
   }
  },
  {
   "cell_type": "code",
   "execution_count": null,
   "outputs": [],
   "source": [],
   "metadata": {
    "collapsed": false,
    "pycharm": {
     "name": "#%%\n"
    }
   }
  }
 ],
 "metadata": {
  "kernelspec": {
   "display_name": "Python 3",
   "language": "python",
   "name": "python3"
  },
  "language_info": {
   "codemirror_mode": {
    "name": "ipython",
    "version": 3
   },
   "file_extension": ".py",
   "mimetype": "text/x-python",
   "name": "python",
   "nbconvert_exporter": "python",
   "pygments_lexer": "ipython3",
   "version": "3.8.3"
  }
 },
 "nbformat": 4,
 "nbformat_minor": 4
}